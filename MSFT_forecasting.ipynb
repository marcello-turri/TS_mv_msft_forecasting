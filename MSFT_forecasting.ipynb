{
  "cells": [
    {
      "cell_type": "code",
      "execution_count": 125,
      "metadata": {
        "id": "ySYbm__POX6f"
      },
      "outputs": [],
      "source": [
        "import numpy as np\n",
        "import pandas as pd\n",
        "import os\n",
        "from tensorflow.keras.callbacks import EarlyStopping, ReduceLROnPlateau, ModelCheckpoint\n",
        "import tensorflow as tf\n",
        "from sklearn.preprocessing import MinMaxScaler\n",
        "import matplotlib.pyplot as plt\n",
        "\n",
        "\n",
        "PATH = \"MSFT.csv\"\n",
        "BATCH_SIZE = 64\n",
        "HORIZON = 1\n",
        "WINDOW_SIZE = 7\n",
        "\n",
        "def import_dataset(path):\n",
        "    return pd.read_csv(path, parse_dates=['Date'])\n",
        "\n",
        "def get_labelled_windows(x, horizon):\n",
        "    return x[:, :-horizon], x[:, -horizon][:, 1]\n",
        "\n",
        "def make_windows(x, window_size, horizon):\n",
        "    window_step = np.expand_dims(np.arange(window_size + horizon), axis=0)\n",
        "    window_indexes = window_step + np.expand_dims(np.arange(len(x)-(window_size+horizon+1)), axis=0).T\n",
        "    windowed_array = x[window_indexes]\n",
        "    windows, label = get_labelled_windows(windowed_array, horizon=horizon)\n",
        "    return windows, label\n",
        "\n",
        "def train_test_split(X, y, test_size=0.2):\n",
        "    X_train = X[:int(len(X)*(1-test_size))]\n",
        "    y_train = y[:int(len(y)*(1-test_size))]\n",
        "    X_test = X[int(len(X)*(1-test_size)):]\n",
        "    y_test = y[int(len(y)*(1-test_size)):]\n",
        "    return X_train, y_train, X_test, y_test\n",
        "\n",
        "def build_model():\n",
        "    model = tf.keras.Sequential([\n",
        "        tf.keras.layers.Dense(WINDOW_SIZE, activation='relu'),\n",
        "        tf.keras.layers.LSTM(64, recurrent_dropout=0.2, return_sequences=True,\n",
        "                             input_shape=(X_train.shape[1],X_train.shape[2])),\n",
        "        tf.keras.layers.LSTM(128, recurrent_dropout=0.2, return_sequences=False),\n",
        "        tf.keras.layers.Dropout(.2),\n",
        "        tf.keras.layers.Dense(HORIZON)\n",
        "    ])\n",
        "    return model\n",
        "\n",
        "def create_model_checkpoint(model_name, save_path=\"model_experiments\"):\n",
        "    return tf.keras.callbacks.ModelCheckpoint(filepath=os.path.join(save_path, model_name),\n",
        "                                              monitor='val_loss',\n",
        "                                              mode='min',\n",
        "                                              save_best_only=True)  # save only the best model to file\n",
        "\n",
        "\n",
        "callbacks = [\n",
        "    EarlyStopping(patience=10, monitor='val_loss', restore_best_weights=True),\n",
        "    ReduceLROnPlateau(monitor='val_loss', min_lr=1e-10, patience=2, mode='min', factor=0.1),\n",
        "    create_model_checkpoint(model_name='model')\n",
        "    ]\n",
        "\n"
      ]
    },
    {
      "cell_type": "code",
      "execution_count": 126,
      "metadata": {
        "colab": {
          "base_uri": "https://localhost:8080/",
          "height": 424
        },
        "id": "ejPzqn6wQSqf",
        "outputId": "bd701d3e-2f5e-4b70-ef75-5b9675ce0d57"
      },
      "outputs": [
        {
          "output_type": "execute_result",
          "data": {
            "text/plain": [
              "           Date        Open        High         Low       Close   Adj Close  \\\n",
              "0    2000-01-10   56.718750   56.843750   55.687500   56.125000   35.104012   \n",
              "1    2000-01-11   55.750000   57.125000   54.343750   54.687500   34.204887   \n",
              "2    2000-01-12   54.250000   54.437500   52.218750   52.906250   33.090797   \n",
              "3    2000-01-13   52.187500   54.312500   50.750000   53.906250   33.716267   \n",
              "4    2000-01-14   53.593750   56.968750   52.875000   56.125000   35.104012   \n",
              "...         ...         ...         ...         ...         ...         ...   \n",
              "5761 2022-12-01  253.869995  256.119995  250.919998  254.690002  254.690002   \n",
              "5762 2022-12-02  249.820007  256.059998  249.690002  255.020004  255.020004   \n",
              "5763 2022-12-05  252.009995  253.820007  248.059998  250.199997  250.199997   \n",
              "5764 2022-12-06  250.820007  251.860001  243.779999  245.119995  245.119995   \n",
              "5765 2022-12-07  244.830002  246.160004  242.210007  244.369995  244.369995   \n",
              "\n",
              "        Volume  \n",
              "0     44963600  \n",
              "1     46743600  \n",
              "2     66532400  \n",
              "3     83144000  \n",
              "4     73416400  \n",
              "...        ...  \n",
              "5761  26041500  \n",
              "5762  21522800  \n",
              "5763  23435300  \n",
              "5764  22463700  \n",
              "5765  20472000  \n",
              "\n",
              "[5766 rows x 7 columns]"
            ],
            "text/html": [
              "\n",
              "  <div id=\"df-65ce34c3-b0b2-4df3-8c17-e0a9a2ba8815\">\n",
              "    <div class=\"colab-df-container\">\n",
              "      <div>\n",
              "<style scoped>\n",
              "    .dataframe tbody tr th:only-of-type {\n",
              "        vertical-align: middle;\n",
              "    }\n",
              "\n",
              "    .dataframe tbody tr th {\n",
              "        vertical-align: top;\n",
              "    }\n",
              "\n",
              "    .dataframe thead th {\n",
              "        text-align: right;\n",
              "    }\n",
              "</style>\n",
              "<table border=\"1\" class=\"dataframe\">\n",
              "  <thead>\n",
              "    <tr style=\"text-align: right;\">\n",
              "      <th></th>\n",
              "      <th>Date</th>\n",
              "      <th>Open</th>\n",
              "      <th>High</th>\n",
              "      <th>Low</th>\n",
              "      <th>Close</th>\n",
              "      <th>Adj Close</th>\n",
              "      <th>Volume</th>\n",
              "    </tr>\n",
              "  </thead>\n",
              "  <tbody>\n",
              "    <tr>\n",
              "      <th>0</th>\n",
              "      <td>2000-01-10</td>\n",
              "      <td>56.718750</td>\n",
              "      <td>56.843750</td>\n",
              "      <td>55.687500</td>\n",
              "      <td>56.125000</td>\n",
              "      <td>35.104012</td>\n",
              "      <td>44963600</td>\n",
              "    </tr>\n",
              "    <tr>\n",
              "      <th>1</th>\n",
              "      <td>2000-01-11</td>\n",
              "      <td>55.750000</td>\n",
              "      <td>57.125000</td>\n",
              "      <td>54.343750</td>\n",
              "      <td>54.687500</td>\n",
              "      <td>34.204887</td>\n",
              "      <td>46743600</td>\n",
              "    </tr>\n",
              "    <tr>\n",
              "      <th>2</th>\n",
              "      <td>2000-01-12</td>\n",
              "      <td>54.250000</td>\n",
              "      <td>54.437500</td>\n",
              "      <td>52.218750</td>\n",
              "      <td>52.906250</td>\n",
              "      <td>33.090797</td>\n",
              "      <td>66532400</td>\n",
              "    </tr>\n",
              "    <tr>\n",
              "      <th>3</th>\n",
              "      <td>2000-01-13</td>\n",
              "      <td>52.187500</td>\n",
              "      <td>54.312500</td>\n",
              "      <td>50.750000</td>\n",
              "      <td>53.906250</td>\n",
              "      <td>33.716267</td>\n",
              "      <td>83144000</td>\n",
              "    </tr>\n",
              "    <tr>\n",
              "      <th>4</th>\n",
              "      <td>2000-01-14</td>\n",
              "      <td>53.593750</td>\n",
              "      <td>56.968750</td>\n",
              "      <td>52.875000</td>\n",
              "      <td>56.125000</td>\n",
              "      <td>35.104012</td>\n",
              "      <td>73416400</td>\n",
              "    </tr>\n",
              "    <tr>\n",
              "      <th>...</th>\n",
              "      <td>...</td>\n",
              "      <td>...</td>\n",
              "      <td>...</td>\n",
              "      <td>...</td>\n",
              "      <td>...</td>\n",
              "      <td>...</td>\n",
              "      <td>...</td>\n",
              "    </tr>\n",
              "    <tr>\n",
              "      <th>5761</th>\n",
              "      <td>2022-12-01</td>\n",
              "      <td>253.869995</td>\n",
              "      <td>256.119995</td>\n",
              "      <td>250.919998</td>\n",
              "      <td>254.690002</td>\n",
              "      <td>254.690002</td>\n",
              "      <td>26041500</td>\n",
              "    </tr>\n",
              "    <tr>\n",
              "      <th>5762</th>\n",
              "      <td>2022-12-02</td>\n",
              "      <td>249.820007</td>\n",
              "      <td>256.059998</td>\n",
              "      <td>249.690002</td>\n",
              "      <td>255.020004</td>\n",
              "      <td>255.020004</td>\n",
              "      <td>21522800</td>\n",
              "    </tr>\n",
              "    <tr>\n",
              "      <th>5763</th>\n",
              "      <td>2022-12-05</td>\n",
              "      <td>252.009995</td>\n",
              "      <td>253.820007</td>\n",
              "      <td>248.059998</td>\n",
              "      <td>250.199997</td>\n",
              "      <td>250.199997</td>\n",
              "      <td>23435300</td>\n",
              "    </tr>\n",
              "    <tr>\n",
              "      <th>5764</th>\n",
              "      <td>2022-12-06</td>\n",
              "      <td>250.820007</td>\n",
              "      <td>251.860001</td>\n",
              "      <td>243.779999</td>\n",
              "      <td>245.119995</td>\n",
              "      <td>245.119995</td>\n",
              "      <td>22463700</td>\n",
              "    </tr>\n",
              "    <tr>\n",
              "      <th>5765</th>\n",
              "      <td>2022-12-07</td>\n",
              "      <td>244.830002</td>\n",
              "      <td>246.160004</td>\n",
              "      <td>242.210007</td>\n",
              "      <td>244.369995</td>\n",
              "      <td>244.369995</td>\n",
              "      <td>20472000</td>\n",
              "    </tr>\n",
              "  </tbody>\n",
              "</table>\n",
              "<p>5766 rows × 7 columns</p>\n",
              "</div>\n",
              "      <button class=\"colab-df-convert\" onclick=\"convertToInteractive('df-65ce34c3-b0b2-4df3-8c17-e0a9a2ba8815')\"\n",
              "              title=\"Convert this dataframe to an interactive table.\"\n",
              "              style=\"display:none;\">\n",
              "        \n",
              "  <svg xmlns=\"http://www.w3.org/2000/svg\" height=\"24px\"viewBox=\"0 0 24 24\"\n",
              "       width=\"24px\">\n",
              "    <path d=\"M0 0h24v24H0V0z\" fill=\"none\"/>\n",
              "    <path d=\"M18.56 5.44l.94 2.06.94-2.06 2.06-.94-2.06-.94-.94-2.06-.94 2.06-2.06.94zm-11 1L8.5 8.5l.94-2.06 2.06-.94-2.06-.94L8.5 2.5l-.94 2.06-2.06.94zm10 10l.94 2.06.94-2.06 2.06-.94-2.06-.94-.94-2.06-.94 2.06-2.06.94z\"/><path d=\"M17.41 7.96l-1.37-1.37c-.4-.4-.92-.59-1.43-.59-.52 0-1.04.2-1.43.59L10.3 9.45l-7.72 7.72c-.78.78-.78 2.05 0 2.83L4 21.41c.39.39.9.59 1.41.59.51 0 1.02-.2 1.41-.59l7.78-7.78 2.81-2.81c.8-.78.8-2.07 0-2.86zM5.41 20L4 18.59l7.72-7.72 1.47 1.35L5.41 20z\"/>\n",
              "  </svg>\n",
              "      </button>\n",
              "      \n",
              "  <style>\n",
              "    .colab-df-container {\n",
              "      display:flex;\n",
              "      flex-wrap:wrap;\n",
              "      gap: 12px;\n",
              "    }\n",
              "\n",
              "    .colab-df-convert {\n",
              "      background-color: #E8F0FE;\n",
              "      border: none;\n",
              "      border-radius: 50%;\n",
              "      cursor: pointer;\n",
              "      display: none;\n",
              "      fill: #1967D2;\n",
              "      height: 32px;\n",
              "      padding: 0 0 0 0;\n",
              "      width: 32px;\n",
              "    }\n",
              "\n",
              "    .colab-df-convert:hover {\n",
              "      background-color: #E2EBFA;\n",
              "      box-shadow: 0px 1px 2px rgba(60, 64, 67, 0.3), 0px 1px 3px 1px rgba(60, 64, 67, 0.15);\n",
              "      fill: #174EA6;\n",
              "    }\n",
              "\n",
              "    [theme=dark] .colab-df-convert {\n",
              "      background-color: #3B4455;\n",
              "      fill: #D2E3FC;\n",
              "    }\n",
              "\n",
              "    [theme=dark] .colab-df-convert:hover {\n",
              "      background-color: #434B5C;\n",
              "      box-shadow: 0px 1px 3px 1px rgba(0, 0, 0, 0.15);\n",
              "      filter: drop-shadow(0px 1px 2px rgba(0, 0, 0, 0.3));\n",
              "      fill: #FFFFFF;\n",
              "    }\n",
              "  </style>\n",
              "\n",
              "      <script>\n",
              "        const buttonEl =\n",
              "          document.querySelector('#df-65ce34c3-b0b2-4df3-8c17-e0a9a2ba8815 button.colab-df-convert');\n",
              "        buttonEl.style.display =\n",
              "          google.colab.kernel.accessAllowed ? 'block' : 'none';\n",
              "\n",
              "        async function convertToInteractive(key) {\n",
              "          const element = document.querySelector('#df-65ce34c3-b0b2-4df3-8c17-e0a9a2ba8815');\n",
              "          const dataTable =\n",
              "            await google.colab.kernel.invokeFunction('convertToInteractive',\n",
              "                                                     [key], {});\n",
              "          if (!dataTable) return;\n",
              "\n",
              "          const docLinkHtml = 'Like what you see? Visit the ' +\n",
              "            '<a target=\"_blank\" href=https://colab.research.google.com/notebooks/data_table.ipynb>data table notebook</a>'\n",
              "            + ' to learn more about interactive tables.';\n",
              "          element.innerHTML = '';\n",
              "          dataTable['output_type'] = 'display_data';\n",
              "          await google.colab.output.renderOutput(dataTable, element);\n",
              "          const docLink = document.createElement('div');\n",
              "          docLink.innerHTML = docLinkHtml;\n",
              "          element.appendChild(docLink);\n",
              "        }\n",
              "      </script>\n",
              "    </div>\n",
              "  </div>\n",
              "  "
            ]
          },
          "metadata": {},
          "execution_count": 126
        }
      ],
      "source": [
        "df = import_dataset(PATH)\n",
        "df"
      ]
    },
    {
      "cell_type": "code",
      "source": [
        "df"
      ],
      "metadata": {
        "colab": {
          "base_uri": "https://localhost:8080/",
          "height": 424
        },
        "id": "ImWvW4NI4hk4",
        "outputId": "5c2a2364-d50e-4efa-80d6-ed10fe5109ed"
      },
      "execution_count": 127,
      "outputs": [
        {
          "output_type": "execute_result",
          "data": {
            "text/plain": [
              "           Date        Open        High         Low       Close   Adj Close  \\\n",
              "0    2000-01-10   56.718750   56.843750   55.687500   56.125000   35.104012   \n",
              "1    2000-01-11   55.750000   57.125000   54.343750   54.687500   34.204887   \n",
              "2    2000-01-12   54.250000   54.437500   52.218750   52.906250   33.090797   \n",
              "3    2000-01-13   52.187500   54.312500   50.750000   53.906250   33.716267   \n",
              "4    2000-01-14   53.593750   56.968750   52.875000   56.125000   35.104012   \n",
              "...         ...         ...         ...         ...         ...         ...   \n",
              "5761 2022-12-01  253.869995  256.119995  250.919998  254.690002  254.690002   \n",
              "5762 2022-12-02  249.820007  256.059998  249.690002  255.020004  255.020004   \n",
              "5763 2022-12-05  252.009995  253.820007  248.059998  250.199997  250.199997   \n",
              "5764 2022-12-06  250.820007  251.860001  243.779999  245.119995  245.119995   \n",
              "5765 2022-12-07  244.830002  246.160004  242.210007  244.369995  244.369995   \n",
              "\n",
              "        Volume  \n",
              "0     44963600  \n",
              "1     46743600  \n",
              "2     66532400  \n",
              "3     83144000  \n",
              "4     73416400  \n",
              "...        ...  \n",
              "5761  26041500  \n",
              "5762  21522800  \n",
              "5763  23435300  \n",
              "5764  22463700  \n",
              "5765  20472000  \n",
              "\n",
              "[5766 rows x 7 columns]"
            ],
            "text/html": [
              "\n",
              "  <div id=\"df-80bc8ad5-29a8-4aa6-ab70-ae90ad5702b6\">\n",
              "    <div class=\"colab-df-container\">\n",
              "      <div>\n",
              "<style scoped>\n",
              "    .dataframe tbody tr th:only-of-type {\n",
              "        vertical-align: middle;\n",
              "    }\n",
              "\n",
              "    .dataframe tbody tr th {\n",
              "        vertical-align: top;\n",
              "    }\n",
              "\n",
              "    .dataframe thead th {\n",
              "        text-align: right;\n",
              "    }\n",
              "</style>\n",
              "<table border=\"1\" class=\"dataframe\">\n",
              "  <thead>\n",
              "    <tr style=\"text-align: right;\">\n",
              "      <th></th>\n",
              "      <th>Date</th>\n",
              "      <th>Open</th>\n",
              "      <th>High</th>\n",
              "      <th>Low</th>\n",
              "      <th>Close</th>\n",
              "      <th>Adj Close</th>\n",
              "      <th>Volume</th>\n",
              "    </tr>\n",
              "  </thead>\n",
              "  <tbody>\n",
              "    <tr>\n",
              "      <th>0</th>\n",
              "      <td>2000-01-10</td>\n",
              "      <td>56.718750</td>\n",
              "      <td>56.843750</td>\n",
              "      <td>55.687500</td>\n",
              "      <td>56.125000</td>\n",
              "      <td>35.104012</td>\n",
              "      <td>44963600</td>\n",
              "    </tr>\n",
              "    <tr>\n",
              "      <th>1</th>\n",
              "      <td>2000-01-11</td>\n",
              "      <td>55.750000</td>\n",
              "      <td>57.125000</td>\n",
              "      <td>54.343750</td>\n",
              "      <td>54.687500</td>\n",
              "      <td>34.204887</td>\n",
              "      <td>46743600</td>\n",
              "    </tr>\n",
              "    <tr>\n",
              "      <th>2</th>\n",
              "      <td>2000-01-12</td>\n",
              "      <td>54.250000</td>\n",
              "      <td>54.437500</td>\n",
              "      <td>52.218750</td>\n",
              "      <td>52.906250</td>\n",
              "      <td>33.090797</td>\n",
              "      <td>66532400</td>\n",
              "    </tr>\n",
              "    <tr>\n",
              "      <th>3</th>\n",
              "      <td>2000-01-13</td>\n",
              "      <td>52.187500</td>\n",
              "      <td>54.312500</td>\n",
              "      <td>50.750000</td>\n",
              "      <td>53.906250</td>\n",
              "      <td>33.716267</td>\n",
              "      <td>83144000</td>\n",
              "    </tr>\n",
              "    <tr>\n",
              "      <th>4</th>\n",
              "      <td>2000-01-14</td>\n",
              "      <td>53.593750</td>\n",
              "      <td>56.968750</td>\n",
              "      <td>52.875000</td>\n",
              "      <td>56.125000</td>\n",
              "      <td>35.104012</td>\n",
              "      <td>73416400</td>\n",
              "    </tr>\n",
              "    <tr>\n",
              "      <th>...</th>\n",
              "      <td>...</td>\n",
              "      <td>...</td>\n",
              "      <td>...</td>\n",
              "      <td>...</td>\n",
              "      <td>...</td>\n",
              "      <td>...</td>\n",
              "      <td>...</td>\n",
              "    </tr>\n",
              "    <tr>\n",
              "      <th>5761</th>\n",
              "      <td>2022-12-01</td>\n",
              "      <td>253.869995</td>\n",
              "      <td>256.119995</td>\n",
              "      <td>250.919998</td>\n",
              "      <td>254.690002</td>\n",
              "      <td>254.690002</td>\n",
              "      <td>26041500</td>\n",
              "    </tr>\n",
              "    <tr>\n",
              "      <th>5762</th>\n",
              "      <td>2022-12-02</td>\n",
              "      <td>249.820007</td>\n",
              "      <td>256.059998</td>\n",
              "      <td>249.690002</td>\n",
              "      <td>255.020004</td>\n",
              "      <td>255.020004</td>\n",
              "      <td>21522800</td>\n",
              "    </tr>\n",
              "    <tr>\n",
              "      <th>5763</th>\n",
              "      <td>2022-12-05</td>\n",
              "      <td>252.009995</td>\n",
              "      <td>253.820007</td>\n",
              "      <td>248.059998</td>\n",
              "      <td>250.199997</td>\n",
              "      <td>250.199997</td>\n",
              "      <td>23435300</td>\n",
              "    </tr>\n",
              "    <tr>\n",
              "      <th>5764</th>\n",
              "      <td>2022-12-06</td>\n",
              "      <td>250.820007</td>\n",
              "      <td>251.860001</td>\n",
              "      <td>243.779999</td>\n",
              "      <td>245.119995</td>\n",
              "      <td>245.119995</td>\n",
              "      <td>22463700</td>\n",
              "    </tr>\n",
              "    <tr>\n",
              "      <th>5765</th>\n",
              "      <td>2022-12-07</td>\n",
              "      <td>244.830002</td>\n",
              "      <td>246.160004</td>\n",
              "      <td>242.210007</td>\n",
              "      <td>244.369995</td>\n",
              "      <td>244.369995</td>\n",
              "      <td>20472000</td>\n",
              "    </tr>\n",
              "  </tbody>\n",
              "</table>\n",
              "<p>5766 rows × 7 columns</p>\n",
              "</div>\n",
              "      <button class=\"colab-df-convert\" onclick=\"convertToInteractive('df-80bc8ad5-29a8-4aa6-ab70-ae90ad5702b6')\"\n",
              "              title=\"Convert this dataframe to an interactive table.\"\n",
              "              style=\"display:none;\">\n",
              "        \n",
              "  <svg xmlns=\"http://www.w3.org/2000/svg\" height=\"24px\"viewBox=\"0 0 24 24\"\n",
              "       width=\"24px\">\n",
              "    <path d=\"M0 0h24v24H0V0z\" fill=\"none\"/>\n",
              "    <path d=\"M18.56 5.44l.94 2.06.94-2.06 2.06-.94-2.06-.94-.94-2.06-.94 2.06-2.06.94zm-11 1L8.5 8.5l.94-2.06 2.06-.94-2.06-.94L8.5 2.5l-.94 2.06-2.06.94zm10 10l.94 2.06.94-2.06 2.06-.94-2.06-.94-.94-2.06-.94 2.06-2.06.94z\"/><path d=\"M17.41 7.96l-1.37-1.37c-.4-.4-.92-.59-1.43-.59-.52 0-1.04.2-1.43.59L10.3 9.45l-7.72 7.72c-.78.78-.78 2.05 0 2.83L4 21.41c.39.39.9.59 1.41.59.51 0 1.02-.2 1.41-.59l7.78-7.78 2.81-2.81c.8-.78.8-2.07 0-2.86zM5.41 20L4 18.59l7.72-7.72 1.47 1.35L5.41 20z\"/>\n",
              "  </svg>\n",
              "      </button>\n",
              "      \n",
              "  <style>\n",
              "    .colab-df-container {\n",
              "      display:flex;\n",
              "      flex-wrap:wrap;\n",
              "      gap: 12px;\n",
              "    }\n",
              "\n",
              "    .colab-df-convert {\n",
              "      background-color: #E8F0FE;\n",
              "      border: none;\n",
              "      border-radius: 50%;\n",
              "      cursor: pointer;\n",
              "      display: none;\n",
              "      fill: #1967D2;\n",
              "      height: 32px;\n",
              "      padding: 0 0 0 0;\n",
              "      width: 32px;\n",
              "    }\n",
              "\n",
              "    .colab-df-convert:hover {\n",
              "      background-color: #E2EBFA;\n",
              "      box-shadow: 0px 1px 2px rgba(60, 64, 67, 0.3), 0px 1px 3px 1px rgba(60, 64, 67, 0.15);\n",
              "      fill: #174EA6;\n",
              "    }\n",
              "\n",
              "    [theme=dark] .colab-df-convert {\n",
              "      background-color: #3B4455;\n",
              "      fill: #D2E3FC;\n",
              "    }\n",
              "\n",
              "    [theme=dark] .colab-df-convert:hover {\n",
              "      background-color: #434B5C;\n",
              "      box-shadow: 0px 1px 3px 1px rgba(0, 0, 0, 0.15);\n",
              "      filter: drop-shadow(0px 1px 2px rgba(0, 0, 0, 0.3));\n",
              "      fill: #FFFFFF;\n",
              "    }\n",
              "  </style>\n",
              "\n",
              "      <script>\n",
              "        const buttonEl =\n",
              "          document.querySelector('#df-80bc8ad5-29a8-4aa6-ab70-ae90ad5702b6 button.colab-df-convert');\n",
              "        buttonEl.style.display =\n",
              "          google.colab.kernel.accessAllowed ? 'block' : 'none';\n",
              "\n",
              "        async function convertToInteractive(key) {\n",
              "          const element = document.querySelector('#df-80bc8ad5-29a8-4aa6-ab70-ae90ad5702b6');\n",
              "          const dataTable =\n",
              "            await google.colab.kernel.invokeFunction('convertToInteractive',\n",
              "                                                     [key], {});\n",
              "          if (!dataTable) return;\n",
              "\n",
              "          const docLinkHtml = 'Like what you see? Visit the ' +\n",
              "            '<a target=\"_blank\" href=https://colab.research.google.com/notebooks/data_table.ipynb>data table notebook</a>'\n",
              "            + ' to learn more about interactive tables.';\n",
              "          element.innerHTML = '';\n",
              "          dataTable['output_type'] = 'display_data';\n",
              "          await google.colab.output.renderOutput(dataTable, element);\n",
              "          const docLink = document.createElement('div');\n",
              "          docLink.innerHTML = docLinkHtml;\n",
              "          element.appendChild(docLink);\n",
              "        }\n",
              "      </script>\n",
              "    </div>\n",
              "  </div>\n",
              "  "
            ]
          },
          "metadata": {},
          "execution_count": 127
        }
      ]
    },
    {
      "cell_type": "code",
      "source": [
        "train_dates = df['Date']\n",
        "df = df.set_index('Date')\n",
        "cols = df.columns[0:5]\n",
        "df = MinMaxScaler(feature_range=(0,1)).fit_transform(df.iloc[:, :5])"
      ],
      "metadata": {
        "id": "58fOuDnS36-t"
      },
      "execution_count": 128,
      "outputs": []
    },
    {
      "cell_type": "code",
      "source": [
        "pd.DataFrame(df, columns = cols)"
      ],
      "metadata": {
        "colab": {
          "base_uri": "https://localhost:8080/",
          "height": 424
        },
        "id": "nTT7YhjW5MGu",
        "outputId": "6559d64f-51a1-4b69-8850-f0477fee95bc"
      },
      "execution_count": 129,
      "outputs": [
        {
          "output_type": "execute_result",
          "data": {
            "text/plain": [
              "          Open      High       Low     Close  Adj Close\n",
              "0     0.126036  0.123406  0.124698  0.124939   0.072139\n",
              "1     0.123095  0.124248  0.120593  0.120556   0.069402\n",
              "2     0.118542  0.116203  0.114101  0.115125   0.066011\n",
              "3     0.112281  0.115828  0.109614  0.118174   0.067915\n",
              "4     0.116550  0.123780  0.116106  0.124939   0.072139\n",
              "...        ...       ...       ...       ...        ...\n",
              "5761  0.724516  0.719952  0.721138  0.730394   0.740549\n",
              "5762  0.712222  0.719772  0.717380  0.731400   0.741554\n",
              "5763  0.718870  0.713067  0.712400  0.716703   0.726882\n",
              "5764  0.715257  0.707199  0.699325  0.701214   0.711418\n",
              "5765  0.697074  0.690136  0.694528  0.698927   0.709135\n",
              "\n",
              "[5766 rows x 5 columns]"
            ],
            "text/html": [
              "\n",
              "  <div id=\"df-63d4cba3-b0e6-4db3-910b-9423db5a3ad9\">\n",
              "    <div class=\"colab-df-container\">\n",
              "      <div>\n",
              "<style scoped>\n",
              "    .dataframe tbody tr th:only-of-type {\n",
              "        vertical-align: middle;\n",
              "    }\n",
              "\n",
              "    .dataframe tbody tr th {\n",
              "        vertical-align: top;\n",
              "    }\n",
              "\n",
              "    .dataframe thead th {\n",
              "        text-align: right;\n",
              "    }\n",
              "</style>\n",
              "<table border=\"1\" class=\"dataframe\">\n",
              "  <thead>\n",
              "    <tr style=\"text-align: right;\">\n",
              "      <th></th>\n",
              "      <th>Open</th>\n",
              "      <th>High</th>\n",
              "      <th>Low</th>\n",
              "      <th>Close</th>\n",
              "      <th>Adj Close</th>\n",
              "    </tr>\n",
              "  </thead>\n",
              "  <tbody>\n",
              "    <tr>\n",
              "      <th>0</th>\n",
              "      <td>0.126036</td>\n",
              "      <td>0.123406</td>\n",
              "      <td>0.124698</td>\n",
              "      <td>0.124939</td>\n",
              "      <td>0.072139</td>\n",
              "    </tr>\n",
              "    <tr>\n",
              "      <th>1</th>\n",
              "      <td>0.123095</td>\n",
              "      <td>0.124248</td>\n",
              "      <td>0.120593</td>\n",
              "      <td>0.120556</td>\n",
              "      <td>0.069402</td>\n",
              "    </tr>\n",
              "    <tr>\n",
              "      <th>2</th>\n",
              "      <td>0.118542</td>\n",
              "      <td>0.116203</td>\n",
              "      <td>0.114101</td>\n",
              "      <td>0.115125</td>\n",
              "      <td>0.066011</td>\n",
              "    </tr>\n",
              "    <tr>\n",
              "      <th>3</th>\n",
              "      <td>0.112281</td>\n",
              "      <td>0.115828</td>\n",
              "      <td>0.109614</td>\n",
              "      <td>0.118174</td>\n",
              "      <td>0.067915</td>\n",
              "    </tr>\n",
              "    <tr>\n",
              "      <th>4</th>\n",
              "      <td>0.116550</td>\n",
              "      <td>0.123780</td>\n",
              "      <td>0.116106</td>\n",
              "      <td>0.124939</td>\n",
              "      <td>0.072139</td>\n",
              "    </tr>\n",
              "    <tr>\n",
              "      <th>...</th>\n",
              "      <td>...</td>\n",
              "      <td>...</td>\n",
              "      <td>...</td>\n",
              "      <td>...</td>\n",
              "      <td>...</td>\n",
              "    </tr>\n",
              "    <tr>\n",
              "      <th>5761</th>\n",
              "      <td>0.724516</td>\n",
              "      <td>0.719952</td>\n",
              "      <td>0.721138</td>\n",
              "      <td>0.730394</td>\n",
              "      <td>0.740549</td>\n",
              "    </tr>\n",
              "    <tr>\n",
              "      <th>5762</th>\n",
              "      <td>0.712222</td>\n",
              "      <td>0.719772</td>\n",
              "      <td>0.717380</td>\n",
              "      <td>0.731400</td>\n",
              "      <td>0.741554</td>\n",
              "    </tr>\n",
              "    <tr>\n",
              "      <th>5763</th>\n",
              "      <td>0.718870</td>\n",
              "      <td>0.713067</td>\n",
              "      <td>0.712400</td>\n",
              "      <td>0.716703</td>\n",
              "      <td>0.726882</td>\n",
              "    </tr>\n",
              "    <tr>\n",
              "      <th>5764</th>\n",
              "      <td>0.715257</td>\n",
              "      <td>0.707199</td>\n",
              "      <td>0.699325</td>\n",
              "      <td>0.701214</td>\n",
              "      <td>0.711418</td>\n",
              "    </tr>\n",
              "    <tr>\n",
              "      <th>5765</th>\n",
              "      <td>0.697074</td>\n",
              "      <td>0.690136</td>\n",
              "      <td>0.694528</td>\n",
              "      <td>0.698927</td>\n",
              "      <td>0.709135</td>\n",
              "    </tr>\n",
              "  </tbody>\n",
              "</table>\n",
              "<p>5766 rows × 5 columns</p>\n",
              "</div>\n",
              "      <button class=\"colab-df-convert\" onclick=\"convertToInteractive('df-63d4cba3-b0e6-4db3-910b-9423db5a3ad9')\"\n",
              "              title=\"Convert this dataframe to an interactive table.\"\n",
              "              style=\"display:none;\">\n",
              "        \n",
              "  <svg xmlns=\"http://www.w3.org/2000/svg\" height=\"24px\"viewBox=\"0 0 24 24\"\n",
              "       width=\"24px\">\n",
              "    <path d=\"M0 0h24v24H0V0z\" fill=\"none\"/>\n",
              "    <path d=\"M18.56 5.44l.94 2.06.94-2.06 2.06-.94-2.06-.94-.94-2.06-.94 2.06-2.06.94zm-11 1L8.5 8.5l.94-2.06 2.06-.94-2.06-.94L8.5 2.5l-.94 2.06-2.06.94zm10 10l.94 2.06.94-2.06 2.06-.94-2.06-.94-.94-2.06-.94 2.06-2.06.94z\"/><path d=\"M17.41 7.96l-1.37-1.37c-.4-.4-.92-.59-1.43-.59-.52 0-1.04.2-1.43.59L10.3 9.45l-7.72 7.72c-.78.78-.78 2.05 0 2.83L4 21.41c.39.39.9.59 1.41.59.51 0 1.02-.2 1.41-.59l7.78-7.78 2.81-2.81c.8-.78.8-2.07 0-2.86zM5.41 20L4 18.59l7.72-7.72 1.47 1.35L5.41 20z\"/>\n",
              "  </svg>\n",
              "      </button>\n",
              "      \n",
              "  <style>\n",
              "    .colab-df-container {\n",
              "      display:flex;\n",
              "      flex-wrap:wrap;\n",
              "      gap: 12px;\n",
              "    }\n",
              "\n",
              "    .colab-df-convert {\n",
              "      background-color: #E8F0FE;\n",
              "      border: none;\n",
              "      border-radius: 50%;\n",
              "      cursor: pointer;\n",
              "      display: none;\n",
              "      fill: #1967D2;\n",
              "      height: 32px;\n",
              "      padding: 0 0 0 0;\n",
              "      width: 32px;\n",
              "    }\n",
              "\n",
              "    .colab-df-convert:hover {\n",
              "      background-color: #E2EBFA;\n",
              "      box-shadow: 0px 1px 2px rgba(60, 64, 67, 0.3), 0px 1px 3px 1px rgba(60, 64, 67, 0.15);\n",
              "      fill: #174EA6;\n",
              "    }\n",
              "\n",
              "    [theme=dark] .colab-df-convert {\n",
              "      background-color: #3B4455;\n",
              "      fill: #D2E3FC;\n",
              "    }\n",
              "\n",
              "    [theme=dark] .colab-df-convert:hover {\n",
              "      background-color: #434B5C;\n",
              "      box-shadow: 0px 1px 3px 1px rgba(0, 0, 0, 0.15);\n",
              "      filter: drop-shadow(0px 1px 2px rgba(0, 0, 0, 0.3));\n",
              "      fill: #FFFFFF;\n",
              "    }\n",
              "  </style>\n",
              "\n",
              "      <script>\n",
              "        const buttonEl =\n",
              "          document.querySelector('#df-63d4cba3-b0e6-4db3-910b-9423db5a3ad9 button.colab-df-convert');\n",
              "        buttonEl.style.display =\n",
              "          google.colab.kernel.accessAllowed ? 'block' : 'none';\n",
              "\n",
              "        async function convertToInteractive(key) {\n",
              "          const element = document.querySelector('#df-63d4cba3-b0e6-4db3-910b-9423db5a3ad9');\n",
              "          const dataTable =\n",
              "            await google.colab.kernel.invokeFunction('convertToInteractive',\n",
              "                                                     [key], {});\n",
              "          if (!dataTable) return;\n",
              "\n",
              "          const docLinkHtml = 'Like what you see? Visit the ' +\n",
              "            '<a target=\"_blank\" href=https://colab.research.google.com/notebooks/data_table.ipynb>data table notebook</a>'\n",
              "            + ' to learn more about interactive tables.';\n",
              "          element.innerHTML = '';\n",
              "          dataTable['output_type'] = 'display_data';\n",
              "          await google.colab.output.renderOutput(dataTable, element);\n",
              "          const docLink = document.createElement('div');\n",
              "          docLink.innerHTML = docLinkHtml;\n",
              "          element.appendChild(docLink);\n",
              "        }\n",
              "      </script>\n",
              "    </div>\n",
              "  </div>\n",
              "  "
            ]
          },
          "metadata": {},
          "execution_count": 129
        }
      ]
    },
    {
      "cell_type": "code",
      "source": [
        "df"
      ],
      "metadata": {
        "colab": {
          "base_uri": "https://localhost:8080/"
        },
        "id": "0P-7E8ea55ah",
        "outputId": "9c6504f3-9166-4d1a-a0c3-94c455c4564c"
      },
      "execution_count": 130,
      "outputs": [
        {
          "output_type": "execute_result",
          "data": {
            "text/plain": [
              "array([[0.12603591, 0.12340592, 0.12469831, 0.12493902, 0.07213915],\n",
              "       [0.12309514, 0.12424786, 0.12059313, 0.12055587, 0.06940225],\n",
              "       [0.11854168, 0.11620266, 0.11410121, 0.11512456, 0.06601101],\n",
              "       ...,\n",
              "       [0.71886952, 0.7130669 , 0.7124003 , 0.71670328, 0.72688163],\n",
              "       [0.71525715, 0.7071995 , 0.69932481, 0.70121358, 0.71141834],\n",
              "       [0.69707366, 0.69013619, 0.69452845, 0.69892672, 0.70913537]])"
            ]
          },
          "metadata": {},
          "execution_count": 130
        }
      ]
    },
    {
      "cell_type": "code",
      "source": [
        "df.shape"
      ],
      "metadata": {
        "colab": {
          "base_uri": "https://localhost:8080/"
        },
        "id": "BGQ-Jc1e4LpU",
        "outputId": "30af01dc-fd67-49aa-e394-f18e82b6c311"
      },
      "execution_count": 131,
      "outputs": [
        {
          "output_type": "execute_result",
          "data": {
            "text/plain": [
              "(5766, 5)"
            ]
          },
          "metadata": {},
          "execution_count": 131
        }
      ]
    },
    {
      "cell_type": "code",
      "execution_count": 132,
      "metadata": {
        "id": "H7l2xUJVQrJ5",
        "colab": {
          "base_uri": "https://localhost:8080/"
        },
        "outputId": "42dbca83-c88d-4249-f3cd-9ec558c901af"
      },
      "outputs": [
        {
          "output_type": "stream",
          "name": "stderr",
          "text": [
            "WARNING:tensorflow:Layer lstm_12 will not use cuDNN kernels since it doesn't meet the criteria. It will use a generic GPU kernel as fallback when running on GPU.\n",
            "WARNING:tensorflow:Layer lstm_13 will not use cuDNN kernels since it doesn't meet the criteria. It will use a generic GPU kernel as fallback when running on GPU.\n"
          ]
        },
        {
          "output_type": "stream",
          "name": "stdout",
          "text": [
            "Epoch 1/50\n",
            "65/65 [==============================] - 12s 125ms/step - loss: 1.6665e-04 - mse: 1.6665e-04 - val_loss: 3.4641e-05 - val_mse: 3.4641e-05 - lr: 0.0010\n",
            "Epoch 2/50\n",
            "65/65 [==============================] - 8s 122ms/step - loss: 2.3301e-05 - mse: 2.3301e-05 - val_loss: 2.0344e-05 - val_mse: 2.0344e-05 - lr: 0.0010\n",
            "Epoch 3/50\n",
            "65/65 [==============================] - 3s 46ms/step - loss: 1.8522e-05 - mse: 1.8522e-05 - val_loss: 6.5891e-05 - val_mse: 6.5891e-05 - lr: 0.0010\n",
            "Epoch 4/50\n",
            "65/65 [==============================] - 8s 117ms/step - loss: 1.7341e-05 - mse: 1.7341e-05 - val_loss: 1.3336e-05 - val_mse: 1.3336e-05 - lr: 1.0000e-04\n",
            "Epoch 5/50\n",
            "65/65 [==============================] - 8s 122ms/step - loss: 1.6100e-05 - mse: 1.6100e-05 - val_loss: 1.3088e-05 - val_mse: 1.3088e-05 - lr: 1.0000e-04\n",
            "Epoch 6/50\n",
            "65/65 [==============================] - 8s 122ms/step - loss: 1.6418e-05 - mse: 1.6418e-05 - val_loss: 1.3006e-05 - val_mse: 1.3006e-05 - lr: 1.0000e-05\n",
            "Epoch 7/50\n",
            "65/65 [==============================] - 3s 45ms/step - loss: 1.5959e-05 - mse: 1.5959e-05 - val_loss: 1.3176e-05 - val_mse: 1.3176e-05 - lr: 1.0000e-05\n",
            "Epoch 8/50\n",
            "65/65 [==============================] - 3s 45ms/step - loss: 1.5947e-05 - mse: 1.5947e-05 - val_loss: 1.3127e-05 - val_mse: 1.3127e-05 - lr: 1.0000e-06\n",
            "Epoch 9/50\n",
            "65/65 [==============================] - 3s 46ms/step - loss: 1.5263e-05 - mse: 1.5263e-05 - val_loss: 1.3192e-05 - val_mse: 1.3192e-05 - lr: 1.0000e-06\n",
            "Epoch 10/50\n",
            "65/65 [==============================] - 3s 46ms/step - loss: 1.6183e-05 - mse: 1.6183e-05 - val_loss: 1.3190e-05 - val_mse: 1.3190e-05 - lr: 1.0000e-07\n",
            "Epoch 11/50\n",
            "65/65 [==============================] - 3s 46ms/step - loss: 1.6432e-05 - mse: 1.6432e-05 - val_loss: 1.3192e-05 - val_mse: 1.3192e-05 - lr: 1.0000e-07\n",
            "Epoch 12/50\n",
            "65/65 [==============================] - 3s 45ms/step - loss: 1.5880e-05 - mse: 1.5880e-05 - val_loss: 1.3193e-05 - val_mse: 1.3193e-05 - lr: 1.0000e-08\n",
            "Epoch 13/50\n",
            "65/65 [==============================] - 3s 45ms/step - loss: 1.5779e-05 - mse: 1.5779e-05 - val_loss: 1.3192e-05 - val_mse: 1.3192e-05 - lr: 1.0000e-08\n",
            "Epoch 14/50\n",
            "65/65 [==============================] - 3s 46ms/step - loss: 1.6131e-05 - mse: 1.6131e-05 - val_loss: 1.3192e-05 - val_mse: 1.3192e-05 - lr: 1.0000e-09\n",
            "Epoch 15/50\n",
            "65/65 [==============================] - 3s 46ms/step - loss: 1.6231e-05 - mse: 1.6231e-05 - val_loss: 1.3192e-05 - val_mse: 1.3192e-05 - lr: 1.0000e-09\n",
            "Epoch 16/50\n",
            "65/65 [==============================] - 3s 45ms/step - loss: 1.6168e-05 - mse: 1.6168e-05 - val_loss: 1.3192e-05 - val_mse: 1.3192e-05 - lr: 1.0000e-10\n"
          ]
        }
      ],
      "source": [
        "total_windows, total_labels = make_windows(df, WINDOW_SIZE, HORIZON)\n",
        "X_train, y_train, X_test, y_test = train_test_split(total_windows, total_labels)\n",
        "model_2_lstm = build_model()\n",
        "model_2_lstm.compile(loss = 'mse',\n",
        "                     optimizer = tf.keras.optimizers.Adam(1e-3),\n",
        "                     metrics=['mse'])\n",
        "history = model_2_lstm.fit(X_train, y_train, validation_split=0.1, epochs=50, callbacks=[callbacks], batch_size=BATCH_SIZE)"
      ]
    },
    {
      "cell_type": "code",
      "source": [
        "def plot_history(history, zoom = True):\n",
        "  plt.figure(figsize=(10,7))\n",
        "  loss = history.history['loss']\n",
        "  val_loss = history.history['val_loss']\n",
        "  plt.plot(loss, label = 'training_loss')\n",
        "  plt.plot(val_loss, label = 'validation_loss')\n",
        "  plt.legend()\n",
        "  plt.show()\n",
        "  \n",
        "  if zoom:\n",
        "    plt.figure(figsize=(10,7))\n",
        "    loss = history.history['loss'][10:]\n",
        "    val_loss = history.history['val_loss'][10:]\n",
        "    plt.plot(loss, label = 'training_loss')\n",
        "    plt.plot(val_loss, label = 'validation_loss')\n",
        "    plt.legend()\n",
        "    plt.show()"
      ],
      "metadata": {
        "id": "jiuaqY9bvnBR"
      },
      "execution_count": 133,
      "outputs": []
    },
    {
      "cell_type": "code",
      "source": [
        "plot_history(history, zoom=False)"
      ],
      "metadata": {
        "colab": {
          "base_uri": "https://localhost:8080/",
          "height": 428
        },
        "id": "I6FNqP4QPEJI",
        "outputId": "7843baac-08eb-4548-feba-9e38e26ae3f1"
      },
      "execution_count": 134,
      "outputs": [
        {
          "output_type": "display_data",
          "data": {
            "text/plain": [
              "<Figure size 720x504 with 1 Axes>"
            ],
            "image/png": "[encoded data removed]"
          },
          "metadata": {
            "needs_background": "light"
          }
        }
      ]
    },
    {
      "cell_type": "code",
      "source": [
        "model_2_lstm.evaluate(X_test,y_test)"
      ],
      "metadata": {
        "colab": {
          "base_uri": "https://localhost:8080/"
        },
        "id": "htXhkDDHUtYK",
        "outputId": "20652d9e-8dc6-4593-944c-99d656c9d09f"
      },
      "execution_count": 135,
      "outputs": [
        {
          "output_type": "stream",
          "name": "stdout",
          "text": [
            "36/36 [==============================] - 0s 6ms/step - loss: 3.1286e-04 - mse: 3.1286e-04\n"
          ]
        },
        {
          "output_type": "execute_result",
          "data": {
            "text/plain": [
              "[0.0003128593089058995, 0.0003128593089058995]"
            ]
          },
          "metadata": {},
          "execution_count": 135
        }
      ]
    },
    {
      "cell_type": "code",
      "source": [
        "model_2_lstm.evaluate(X_train, y_train)"
      ],
      "metadata": {
        "colab": {
          "base_uri": "https://localhost:8080/"
        },
        "id": "YyuETIVwU8g7",
        "outputId": "06adbc3e-764d-4649-82ff-2fb91d954d7f"
      },
      "execution_count": 136,
      "outputs": [
        {
          "output_type": "stream",
          "name": "stdout",
          "text": [
            "144/144 [==============================] - 1s 6ms/step - loss: 9.5601e-06 - mse: 9.5601e-06\n"
          ]
        },
        {
          "output_type": "execute_result",
          "data": {
            "text/plain": [
              "[9.560055332258344e-06, 9.560055332258344e-06]"
            ]
          },
          "metadata": {},
          "execution_count": 136
        }
      ]
    },
    {
      "cell_type": "code",
      "source": [
        "tf.keras.models.load_model('/content/model_experiments/model').evaluate(X_test, y_test)"
      ],
      "metadata": {
        "colab": {
          "base_uri": "https://localhost:8080/"
        },
        "id": "9RXjCxAQVANE",
        "outputId": "e882d0cd-0cbd-42a8-9471-85c761529e22"
      },
      "execution_count": 137,
      "outputs": [
        {
          "output_type": "stream",
          "name": "stderr",
          "text": [
            "WARNING:tensorflow:Layer lstm_12 will not use cuDNN kernels since it doesn't meet the criteria. It will use a generic GPU kernel as fallback when running on GPU.\n",
            "WARNING:tensorflow:Layer lstm_13 will not use cuDNN kernels since it doesn't meet the criteria. It will use a generic GPU kernel as fallback when running on GPU.\n"
          ]
        },
        {
          "output_type": "stream",
          "name": "stdout",
          "text": [
            "36/36 [==============================] - 1s 6ms/step - loss: 3.1286e-04 - mse: 3.1286e-04\n"
          ]
        },
        {
          "output_type": "execute_result",
          "data": {
            "text/plain": [
              "[0.0003128593089058995, 0.0003128593089058995]"
            ]
          },
          "metadata": {},
          "execution_count": 137
        }
      ]
    },
    {
      "cell_type": "code",
      "source": [
        "def evaluate_preds(y_true, y_pred):\n",
        "\n",
        "  # Calculate various metrics\n",
        "  mae = tf.keras.metrics.mean_absolute_error(y_true, y_pred)\n",
        "  mse = tf.keras.metrics.mean_squared_error(y_true, y_pred) # puts and emphasis on outliers (all errors get squared)\n",
        "  rmse = tf.sqrt(mse)\n",
        "  mape = tf.keras.metrics.mean_absolute_percentage_error(y_true, y_pred)\n",
        "  \n",
        "  return {\"mae\": mae.numpy(),\n",
        "          \"mse\": mse.numpy(),\n",
        "          \"rmse\": rmse.numpy(),\n",
        "          \"mape\": mape.numpy()}\n",
        "     "
      ],
      "metadata": {
        "id": "nhnRL-hEfJEr"
      },
      "execution_count": 138,
      "outputs": []
    },
    {
      "cell_type": "code",
      "source": [
        "y_pred_train = model_2_lstm.predict(X_train)\n",
        "y_pred_test = model_2_lstm.predict(X_test)"
      ],
      "metadata": {
        "colab": {
          "base_uri": "https://localhost:8080/"
        },
        "id": "ZO7N068NgPiX",
        "outputId": "ea54d4a6-91ec-41d3-ea55-13c02a76a8e7"
      },
      "execution_count": 139,
      "outputs": [
        {
          "output_type": "stream",
          "name": "stdout",
          "text": [
            "144/144 [==============================] - 1s 5ms/step\n",
            "36/36 [==============================] - 0s 5ms/step\n"
          ]
        }
      ]
    },
    {
      "cell_type": "code",
      "source": [
        "plt.figure(figsize=(12,7))\n",
        "plt.title('TRAINING SET PERFORMANCES')\n",
        "plt.plot(y_pred_train[:,0], label='Prediction', linewidth=2)\n",
        "plt.plot(y_train, label='Actual')\n",
        "plt.legend()\n",
        "plt.show()\n"
      ],
      "metadata": {
        "colab": {
          "base_uri": "https://localhost:8080/",
          "height": 444
        },
        "id": "kh7V5XijsKZW",
        "outputId": "dc4a5c5d-ff7d-4b50-e4a8-4199d1d48fdc"
      },
      "execution_count": 150,
      "outputs": [
        {
          "output_type": "display_data",
          "data": {
            "text/plain": [
              "<Figure size 864x504 with 1 Axes>"
            ],
            "image/png": "[encoded data removed]"
          },
          "metadata": {
            "needs_background": "light"
          }
        }
      ]
    },
    {
      "cell_type": "code",
      "source": [
        "plt.figure(figsize=(12,7))\n",
        "plt.plot(y_pred_test[:,0], label='Prediction')\n",
        "plt.plot(y_test, label='Actual')\n",
        "plt.legend()\n",
        "plt.show()\n"
      ],
      "metadata": {
        "colab": {
          "base_uri": "https://localhost:8080/",
          "height": 428
        },
        "id": "YvDew_PBgvmJ",
        "outputId": "13406456-dea7-4510-c3a9-43e51ed252b1"
      },
      "execution_count": 151,
      "outputs": [
        {
          "output_type": "display_data",
          "data": {
            "text/plain": [
              "<Figure size 864x504 with 1 Axes>"
            ],
            "image/png": "[encoded data removed]"
          },
          "metadata": {
            "needs_background": "light"
          }
        }
      ]
    },
    {
      "cell_type": "code",
      "source": [
        "y_test"
      ],
      "metadata": {
        "colab": {
          "base_uri": "https://localhost:8080/"
        },
        "id": "0M977rgasCTP",
        "outputId": "79eb94bb-149e-45d2-f19a-8b9e86f9eb53"
      },
      "execution_count": 142,
      "outputs": [
        {
          "output_type": "execute_result",
          "data": {
            "text/plain": [
              "array([0.24646009, 0.24622063, 0.24867534, ..., 0.71995206, 0.71977246,\n",
              "       0.7130669 ])"
            ]
          },
          "metadata": {},
          "execution_count": 142
        }
      ]
    },
    {
      "cell_type": "code",
      "source": [
        "y_pred_test[:,0]"
      ],
      "metadata": {
        "colab": {
          "base_uri": "https://localhost:8080/"
        },
        "id": "hiBfjDAjrKz5",
        "outputId": "8dd6bd44-1ebd-41a4-a139-dec68e4c2938"
      },
      "execution_count": 143,
      "outputs": [
        {
          "output_type": "execute_result",
          "data": {
            "text/plain": [
              "array([0.24124876, 0.24289945, 0.24455084, ..., 0.6929642 , 0.69650644,\n",
              "       0.70014524], dtype=float32)"
            ]
          },
          "metadata": {},
          "execution_count": 143
        }
      ]
    },
    {
      "cell_type": "code",
      "source": [
        "evaluate_preds(y_train, y_pred_train[:,0])"
      ],
      "metadata": {
        "colab": {
          "base_uri": "https://localhost:8080/"
        },
        "id": "BUnZpu7JfwGJ",
        "outputId": "83d4ff0e-ae30-47dc-e2e2-599d8cb04524"
      },
      "execution_count": 149,
      "outputs": [
        {
          "output_type": "execute_result",
          "data": {
            "text/plain": [
              "{'mae': 0.0021263235,\n",
              " 'mse': 9.560057e-06,\n",
              " 'rmse': 0.0030919341,\n",
              " 'mape': 1000.3813}"
            ]
          },
          "metadata": {},
          "execution_count": 149
        }
      ]
    },
    {
      "cell_type": "code",
      "source": [
        "evaluate_preds(y_test, y_pred_test[:,0])"
      ],
      "metadata": {
        "colab": {
          "base_uri": "https://localhost:8080/"
        },
        "id": "ZAR--ZEkf4-v",
        "outputId": "b527dcc0-2e52-4af0-fe9c-678f46d8de75"
      },
      "execution_count": 148,
      "outputs": [
        {
          "output_type": "execute_result",
          "data": {
            "text/plain": [
              "{'mae': 0.012659573,\n",
              " 'mse': 0.0003128593,\n",
              " 'rmse': 0.01768783,\n",
              " 'mape': 2.1410263}"
            ]
          },
          "metadata": {},
          "execution_count": 148
        }
      ]
    },
    {
      "cell_type": "code",
      "source": [],
      "metadata": {
        "id": "pzsH1yK7Aoh1"
      },
      "execution_count": null,
      "outputs": []
    }
  ],
  "metadata": {
    "accelerator": "GPU",
    "colab": {
      "machine_shape": "hm",
      "provenance": []
    },
    "gpuClass": "standard",
    "kernelspec": {
      "display_name": "Python 3",
      "name": "python3"
    },
    "language_info": {
      "name": "python"
    }
  },
  "nbformat": 4,
  "nbformat_minor": 0
}